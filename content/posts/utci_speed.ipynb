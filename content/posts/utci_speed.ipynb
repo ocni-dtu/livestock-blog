{
 "cells": [
  {
   "cell_type": "markdown",
   "metadata": {
    "collapsed": true
   },
   "source": [
    "In this post I will compare the time it takes to compute the Universal Thermal Climate Index (UTCI).\n",
    "First I will look at different ways of computing the UTCI in CPython. This post are written as a Jupyter Notebook, meaning\n",
    "that you can try out the code yourself and check how long it takes to make the computations on your own machine.\n",
    "In the second part I will implement the best performing UTCI algorithm in Grasshopper, comparing how it perform if you implement\n",
    "it with the Livestock Template Method and just a normal Grasshopper Python Component."
   ]
  },
  {
   "cell_type": "code",
   "execution_count": 2,
   "metadata": {},
   "outputs": [],
   "source": [
    "import numpy as np\n",
    "import math\n",
    "import matplotlib.pyplot as plt\n",
    "%matplotlib inline"
   ]
  },
  {
   "cell_type": "code",
   "execution_count": null,
   "metadata": {},
   "outputs": [],
   "source": []
  }
 ],
 "metadata": {
  "kernelspec": {
   "display_name": "Python 2",
   "language": "python",
   "name": "python2"
  },
  "language_info": {
   "codemirror_mode": {
    "name": "ipython",
    "version": 2
   },
   "file_extension": ".py",
   "mimetype": "text/x-python",
   "name": "python",
   "nbconvert_exporter": "python",
   "pygments_lexer": "ipython2",
   "version": "2.7.6"
  }
 },
 "nbformat": 4,
 "nbformat_minor": 0
}
